{
 "cells": [
  {
   "cell_type": "markdown",
   "metadata": {
    "deletable": true,
    "editable": true
   },
   "source": [
    "# Self-Driving Car Engineer Nanodegree\n",
    "\n",
    "## Deep Learning\n",
    "\n",
    "## Project: Build a Traffic Sign Recognition Classifier\n",
    "\n",
    "In this notebook, a template is provided for you to implement your functionality in stages, which is required to successfully complete this project. If additional code is required that cannot be included in the notebook, be sure that the Python code is successfully imported and included in your submission if necessary. \n",
    "\n",
    "> **Note**: Once you have completed all of the code implementations, you need to finalize your work by exporting the iPython Notebook as an HTML document. Before exporting the notebook to html, all of the code cells need to have been run so that reviewers can see the final implementation and output. You can then export the notebook by using the menu above and navigating to  \\n\",\n",
    "    \"**File -> Download as -> HTML (.html)**. Include the finished document along with this notebook as your submission. \n",
    "\n",
    "In addition to implementing code, there is a writeup to complete. The writeup should be completed in a separate file, which can be either a markdown file or a pdf document. There is a [write up template](https://github.com/udacity/CarND-Traffic-Sign-Classifier-Project/blob/master/writeup_template.md) that can be used to guide the writing process. Completing the code template and writeup template will cover all of the [rubric points](https://review.udacity.com/#!/rubrics/481/view) for this project.\n",
    "\n",
    "The [rubric](https://review.udacity.com/#!/rubrics/481/view) contains \"Stand Out Suggestions\" for enhancing the project beyond the minimum requirements. The stand out suggestions are optional. If you decide to pursue the \"stand out suggestions\", you can include the code in this Ipython notebook and also discuss the results in the writeup file.\n",
    "\n",
    "\n",
    ">**Note:** Code and Markdown cells can be executed using the **Shift + Enter** keyboard shortcut. In addition, Markdown cells can be edited by typically double-clicking the cell to enter edit mode."
   ]
  },
  {
   "cell_type": "markdown",
   "metadata": {
    "deletable": true,
    "editable": true
   },
   "source": [
    "---\n",
    "## Step 0: Load The Data"
   ]
  },
  {
   "cell_type": "code",
   "execution_count": 3,
   "metadata": {
    "collapsed": false,
    "deletable": true,
    "editable": true
   },
   "outputs": [
    {
     "name": "stdout",
     "output_type": "stream",
     "text": [
      "Training Set: 42\n",
      "Validation Set: 42\n",
      "Testing Set: 41\n"
     ]
    }
   ],
   "source": [
    "# Load pickled data\n",
    "import pickle\n",
    "\n",
    "# TODO: Fill this in based on where you saved the training and testing data\n",
    "training_file = \"../TooBigForGit/traffic-signs-data/train.p\"\n",
    "validation_file= \"../TooBigForGit/traffic-signs-data/valid.p\"\n",
    "testing_file = \"../TooBigForGit/traffic-signs-data/test.p\"\n",
    "\n",
    "with open(training_file, mode='rb') as f:\n",
    "    train = pickle.load(f)\n",
    "with open(validation_file, mode='rb') as f:\n",
    "    valid = pickle.load(f)\n",
    "with open(testing_file, mode='rb') as f:\n",
    "    test = pickle.load(f)\n",
    "    \n",
    "X_train, y_train = train['features'], train['labels']\n",
    "X_valid, y_valid = valid['features'], valid['labels']\n",
    "X_test, y_test = test['features'], test['labels']\n",
    "\n",
    "print(\"Training Set: {}\".format(len(training_file)))\n",
    "print(\"Validation Set: {}\".format(len(validation_file)))\n",
    "print(\"Testing Set: {}\".format(len(testing_file)))"
   ]
  },
  {
   "cell_type": "markdown",
   "metadata": {
    "deletable": true,
    "editable": true
   },
   "source": [
    "---\n",
    "\n",
    "## Step 1: Dataset Summary & Exploration\n",
    "\n",
    "The pickled data is a dictionary with 4 key/value pairs:\n",
    "\n",
    "- `'features'` is a 4D array containing raw pixel data of the traffic sign images, (num examples, width, height, channels).\n",
    "- `'labels'` is a 1D array containing the label/class id of the traffic sign. The file `signnames.csv` contains id -> name mappings for each id.\n",
    "- `'sizes'` is a list containing tuples, (width, height) representing the original width and height the image.\n",
    "- `'coords'` is a list containing tuples, (x1, y1, x2, y2) representing coordinates of a bounding box around the sign in the image. **THESE COORDINATES ASSUME THE ORIGINAL IMAGE. THE PICKLED DATA CONTAINS RESIZED VERSIONS (32 by 32) OF THESE IMAGES**\n",
    "\n",
    "Complete the basic data summary below. Use python, numpy and/or pandas methods to calculate the data summary rather than hard coding the results. For example, the [pandas shape method](http://pandas.pydata.org/pandas-docs/stable/generated/pandas.DataFrame.shape.html) might be useful for calculating some of the summary results. "
   ]
  },
  {
   "cell_type": "markdown",
   "metadata": {
    "deletable": true,
    "editable": true
   },
   "source": [
    "### Provide a Basic Summary of the Data Set Using Python, Numpy and/or Pandas"
   ]
  },
  {
   "cell_type": "code",
   "execution_count": 4,
   "metadata": {
    "collapsed": false,
    "deletable": true,
    "editable": true
   },
   "outputs": [
    {
     "name": "stdout",
     "output_type": "stream",
     "text": [
      "Number of training examples = 34799\n",
      "Number of testing examples = 12630\n",
      "Number of validation examples = 4410\n",
      "Image data shape = (32, 32, 3)\n",
      "Number of classes = 43\n"
     ]
    }
   ],
   "source": [
    "import numpy as np\n",
    "\n",
    "### Replace each question mark with the appropriate value. \n",
    "### Use python, pandas or numpy methods rather than hard coding the results\n",
    "\n",
    "# TODO: Number of training examples\n",
    "n_train = len(X_train)\n",
    "\n",
    "# TODO: Number of validation examples\n",
    "n_validation = len(X_valid)\n",
    "\n",
    "# TODO: Number of testing examples.\n",
    "n_test = len(X_test)\n",
    "\n",
    "# TODO: What's the shape of an traffic sign image?\n",
    "# Assume that the images are all the same shape, so use shape of first image\n",
    "image_shape = X_train[0].shape\n",
    "\n",
    "# TODO: How many unique classes/labels there are in the dataset.\n",
    "n_classes = len(np.unique(y_train))\n",
    "\n",
    "print(\"Number of training examples =\", n_train)\n",
    "print(\"Number of testing examples =\", n_test)\n",
    "print(\"Number of validation examples =\", n_validation)\n",
    "print(\"Image data shape =\", image_shape)\n",
    "print(\"Number of classes =\", n_classes)"
   ]
  },
  {
   "cell_type": "markdown",
   "metadata": {
    "deletable": true,
    "editable": true
   },
   "source": [
    "### Include an exploratory visualization of the dataset"
   ]
  },
  {
   "cell_type": "markdown",
   "metadata": {
    "deletable": true,
    "editable": true
   },
   "source": [
    "Visualize the German Traffic Signs Dataset using the pickled file(s). This is open ended, suggestions include: plotting traffic sign images, plotting the count of each sign, etc. \n",
    "\n",
    "The [Matplotlib](http://matplotlib.org/) [examples](http://matplotlib.org/examples/index.html) and [gallery](http://matplotlib.org/gallery.html) pages are a great resource for doing visualizations in Python.\n",
    "\n",
    "**NOTE:** It's recommended you start with something simple first. If you wish to do more, come back to it after you've completed the rest of the sections. It can be interesting to look at the distribution of classes in the training, validation and test set. Is the distribution the same? Are there more examples of some classes than others?"
   ]
  },
  {
   "cell_type": "code",
   "execution_count": 6,
   "metadata": {
    "collapsed": false,
    "deletable": true,
    "editable": true
   },
   "outputs": [
    {
     "name": "stdout",
     "output_type": "stream",
     "text": [
      "35\n"
     ]
    },
    {
     "data": {
      "image/png": "[encoded data removed]",
      "text/plain": [
       "<matplotlib.figure.Figure at 0x7f7aff3ba9e8>"
      ]
     },
     "metadata": {},
     "output_type": "display_data"
    }
   ],
   "source": [
    "### Data exploration visualization code goes here.\n",
    "### Feel free to use as many code cells as needed.\n",
    "import random\n",
    "import matplotlib.pyplot as plt\n",
    "import math\n",
    "\n",
    "# Visualizations will be shown in the notebook.\n",
    "%matplotlib inline\n",
    "\n",
    "index = random.randint(0, len(X_train))\n",
    "image = X_train[index].squeeze()\n",
    "\n",
    "plt.figure(figsize=(1,1))\n",
    "plt.imshow(image, cmap=\"gray\")\n",
    "print(y_train[index])"
   ]
  },
  {
   "cell_type": "code",
   "execution_count": 7,
   "metadata": {
    "collapsed": false
   },
   "outputs": [
    {
     "data": {
      "image/png": "[encoded data removed]",
      "text/plain": [
       "<matplotlib.figure.Figure at 0x7f7b28425780>"
      ]
     },
     "metadata": {},
     "output_type": "display_data"
    }
   ],
   "source": [
    "# Histogram of the label frequency for the training set\n",
    "hist, bins = np.histogram(y_train, bins=n_classes)\n",
    "width = 0.7 * (bins[1] - bins[0])\n",
    "center = (bins[:-1] + bins[1:]) / 2\n",
    "plt.bar(center, hist, align='center', width=width)\n",
    "plt.show()"
   ]
  },
  {
   "cell_type": "code",
   "execution_count": 8,
   "metadata": {
    "collapsed": false
   },
   "outputs": [
    {
     "data": {
      "image/png": "[encoded data removed]",
      "text/plain": [
       "<matplotlib.figure.Figure at 0x7f7b33b50160>"
      ]
     },
     "metadata": {},
     "output_type": "display_data"
    }
   ],
   "source": [
    "# Histogram of the label frequency for the testing set\n",
    "hist, bins = np.histogram(y_test, bins=n_classes)\n",
    "width = 0.7 * (bins[1] - bins[0])\n",
    "center = (bins[:-1] + bins[1:]) / 2\n",
    "plt.bar(center, hist, align='center', width=width)\n",
    "plt.show()"
   ]
  },
  {
   "cell_type": "markdown",
   "metadata": {
    "deletable": true,
    "editable": true
   },
   "source": [
    "----\n",
    "\n",
    "## Step 2: Design and Test a Model Architecture\n",
    "\n",
    "Design and implement a deep learning model that learns to recognize traffic signs. Train and test your model on the [German Traffic Sign Dataset](http://benchmark.ini.rub.de/?section=gtsrb&subsection=dataset).\n",
    "\n",
    "The LeNet-5 implementation shown in the [classroom](https://classroom.udacity.com/nanodegrees/nd013/parts/fbf77062-5703-404e-b60c-95b78b2f3f9e/modules/6df7ae49-c61c-4bb2-a23e-6527e69209ec/lessons/601ae704-1035-4287-8b11-e2c2716217ad/concepts/d4aca031-508f-4e0b-b493-e7b706120f81) at the end of the CNN lesson is a solid starting point. You'll have to change the number of classes and possibly the preprocessing, but aside from that it's plug and play! \n",
    "\n",
    "With the LeNet-5 solution from the lecture, you should expect a validation set accuracy of about 0.89. To meet specifications, the validation set accuracy will need to be at least 0.93. It is possible to get an even higher accuracy, but 0.93 is the minimum for a successful project submission. \n",
    "\n",
    "There are various aspects to consider when thinking about this problem:\n",
    "\n",
    "- Neural network architecture (is the network over or underfitting?)\n",
    "- Play around preprocessing techniques (normalization, rgb to grayscale, etc)\n",
    "- Number of examples per label (some have more than others).\n",
    "- Generate fake data.\n",
    "\n",
    "Here is an example of a [published baseline model on this problem](http://yann.lecun.com/exdb/publis/pdf/sermanet-ijcnn-11.pdf). It's not required to be familiar with the approach used in the paper but, it's good practice to try to read papers like these."
   ]
  },
  {
   "cell_type": "markdown",
   "metadata": {
    "deletable": true,
    "editable": true
   },
   "source": [
    "# 1. Preprocessing My Datasets\n",
    "\n",
    "To preprocess my datasets I created a pipeline that first grayscales the images, then applies min-max scaling for normalization, and then finally standardizes the data. I grayscaled the images to eliminate the noise that is color. I applied min-max scaling for normalization to make sure the data in my dataset is all on the same scale so that it is easy to compare each data point to each other data point. Lastly, I standardize my data by making the mean equal to zero because I find it easier to plot data that has been standardized."
   ]
  },
  {
   "cell_type": "markdown",
   "metadata": {
    "deletable": true,
    "editable": true
   },
   "source": [
    "### Pre-process the Data Set (normalization, grayscale, etc.)"
   ]
  },
  {
   "cell_type": "markdown",
   "metadata": {
    "deletable": true,
    "editable": true
   },
   "source": [
    "Minimally, the image data should be normalized so that the data has mean zero and equal variance. For image data, `(pixel - 128)/ 128` is a quick way to approximately normalize the data and can be used in this project. \n",
    "\n",
    "Other pre-processing steps are optional. You can try different techniques to see if it improves performance. \n",
    "\n",
    "Use the code cell (or multiple code cells, if necessary) to implement the first step of your project."
   ]
  },
  {
   "cell_type": "code",
   "execution_count": 4,
   "metadata": {
    "collapsed": false,
    "deletable": true,
    "editable": true
   },
   "outputs": [],
   "source": [
    "### Preprocess the data here. It is required to normalize the data.\n",
    "### Other preprocessing steps could include converting to grayscale, etc.\n",
    "### Feel free to use as many code cells as needed.\n",
    "\n",
    "from sklearn.utils import shuffle\n",
    "import cv2\n",
    "\n",
    "# Shuffle the training set so that we never train in the same order\n",
    "# This is important because we don't want to have to rely on the ordering of data\n",
    "X_train, y_train = shuffle(X_train, y_train)\n",
    "\n",
    "# assume default network input is RGB \n",
    "n_channels = 3\n",
    "\n",
    "# Min-Max scaling for image data\n",
    "def minMaxScalingNormalization(X):\n",
    "    a = 0\n",
    "    b = 1.0\n",
    "    return a + X * (b-a) / 255\n",
    "\n",
    "# Standardize the image data\n",
    "def standardize(X):\n",
    "    # zero-center\n",
    "    X -= np.mean(X)\n",
    "    \n",
    "    # normalize\n",
    "    X /= np.std(X) \n",
    "    \n",
    "    return (X)\n",
    "\n",
    "# Grayscale the images\n",
    "def grayscale(X):\n",
    "    gray = np.dot(X, [0.299, 0.587, 0.114])\n",
    "    gray = gray.reshape(len(X),32,32,1)\n",
    "    global n_channels\n",
    "    n_channels = 1\n",
    "    return gray\n",
    "    \n",
    "# Image preprocessing pipeline\n",
    "def preprocess_dataset(X):\n",
    "    X = grayscale(X)\n",
    "    X = minMaxScalingNormalization(X)\n",
    "    X = standardize(X)\n",
    "    return X\n",
    "\n",
    "# Proprocess datasets\n",
    "X_train = preprocess_dataset(X_train.astype(np.float32))\n",
    "X_valid = preprocess_dataset(X_valid.astype(np.float32))\n",
    "X_test  = preprocess_dataset(X_test.astype(np.float32))\n",
    "\n",
    "# EPOCHS tells TF how many times to run our training data through the network\n",
    "# The more EPOCHS, the better our model will train but also the longer it will take\n",
    "EPOCHS = 100\n",
    "\n",
    "# Tells TF how many taining images to run through the network at a time\n",
    "# The larger the batch_size, the faster the model will train,\n",
    "# but our processer may have a limit on how large of a batch it can run\n",
    "BATCH_SIZE = 128"
   ]
  },
  {
   "cell_type": "markdown",
   "metadata": {
    "deletable": true,
    "editable": true
   },
   "source": [
    "### 2. Model Architecture\n",
    "\n",
    "Describe what your final model architecture looks like including model type, layers, layer sizes, connectivity, etc.) Consider including a diagram and/or table describing the final model.\n",
    "\n",
    "My final model architecture, as seen below, is based off the LeNet architecture. I added dropout near the bottom of the architecture to help with the training of my model. Dropout will randomly select data from the training set to remove. This happens again and again in every epoch with different data points being removed. By training like this we can come closer to simulating how the model will interpret random new data, and better prepare our model for the real world.\n",
    "\n",
    "| Layer            | Description        |\n",
    "|:---------------- |:------------------ |\n",
    "| Input\t           | 32x32x1 RGB image  |\n",
    "| Convolution 5x5  | 28x28x6 image      |\n",
    "| RELU\t           |                    |\n",
    "| Max Pooling  \t   | 14x14x6 RGB image  |\n",
    "| Convolution      | 10x10x16 RGB image |\n",
    "| RELU\t           |                    |\n",
    "| Max Pooling      | 5x5x16  RGB image  |\n",
    "| Flatten          | 5x5x16 (400)       |\n",
    "| Convolution Full | 120                |\n",
    "| RELU\t           |                    |\n",
    "| Convolution Full | 84                 |\n",
    "| RELU\t           |                    |\n",
    "| Convolution Full | 10                 |\n",
    "| Dropout 1        |                    |"
   ]
  },
  {
   "cell_type": "code",
   "execution_count": 5,
   "metadata": {
    "collapsed": true,
    "deletable": true,
    "editable": true
   },
   "outputs": [],
   "source": [
    "### Define your architecture here.\n",
    "### Feel free to use as many code cells as needed.\n",
    "\n",
    "from tensorflow.contrib.layers import flatten\n",
    "\n",
    "def ClassifyTrafficSign(x):    \n",
    "    # Arguments used for tf.truncated_normal,\n",
    "    # randomly defines variables for the weights and biases for each layer\n",
    "    mu = 0\n",
    "    sigma = 0.001\n",
    "    dropout = 1\n",
    "    \n",
    "    # SOLUTION: Layer 1: Convolutional. Input = 32x32x1. Output = 28x28x6.\n",
    "    # This layer has a 5x5 filter with an input depth of 1 and an output depth of 6\n",
    "    conv1_W = tf.Variable(tf.truncated_normal(shape=(5, 5, 1, 6), mean = mu, stddev = sigma)) #Weights\n",
    "    conv1_b = tf.Variable(tf.zeros(6)) #Biases\n",
    "    # Now we use the conv2d function to convolve the filter over the images, and we add the baises at the end\n",
    "    # The formula for convolutions tells us that the output height = the input height minus the filter height + 1\n",
    "    # all divided by the vertical stride. In this case: (32 - 5 + 1)/1 = 28 (This also works for output width)\n",
    "    # Convolutional layer output = 28x28x6\n",
    "    conv1   = tf.nn.conv2d(x, conv1_W, strides=[1, 1, 1, 1], padding='VALID') + conv1_b\n",
    "\n",
    "    # SOLUTION: Activation.\n",
    "    # Activate the output of the convollutional layer (28x28x6) with a ReLU activation function\n",
    "    conv1 = tf.nn.relu(conv1)\n",
    "\n",
    "    # SOLUTION: Pooling. Input = 28x28x6. Output = 14x14x6.\n",
    "    # Pool the output using a 2x2 kernel with a 2x2 stride which gives us a pooling output of 14x14x6\n",
    "    conv1 = tf.nn.max_pool(conv1, ksize=[1, 2, 2, 1], strides=[1, 2, 2, 1], padding='VALID')\n",
    "\n",
    "    \n",
    "    # The network then runs through another set of convolutional activation and pooling layers giving and output of 5x5x16\n",
    "    \n",
    "    # SOLUTION: Layer 2: Convolutional. Output = 10x10x16.\n",
    "    conv2_W = tf.Variable(tf.truncated_normal(shape=(5, 5, 6, 16), mean = mu, stddev = sigma))\n",
    "    conv2_b = tf.Variable(tf.zeros(16))\n",
    "    conv2   = tf.nn.conv2d(conv1, conv2_W, strides=[1, 1, 1, 1], padding='VALID') + conv2_b\n",
    "    \n",
    "    # SOLUTION: Activation.\n",
    "    conv2 = tf.nn.relu(conv2)\n",
    "\n",
    "    # SOLUTION: Pooling. Input = 10x10x16. Output = 5x5x16.\n",
    "    conv2 = tf.nn.max_pool(conv2, ksize=[1, 2, 2, 1], strides=[1, 2, 2, 1], padding='VALID')\n",
    "\n",
    "    # SOLUTION: Flatten. Input = 5x5x16. Output = 400.\n",
    "    # We then flatten this output (5x5x16) into a vector of length 5x5x16 which equals 400\n",
    "    fc0   = flatten(conv2)\n",
    "    \n",
    "    # SOLUTION: Layer 3: Fully Connected. Input = 400. Output = 120.\n",
    "    # We pass our last output into this fully connected layer with a width of 120\n",
    "    fc1_W = tf.Variable(tf.truncated_normal(shape=(400, 120), mean = mu, stddev = sigma))\n",
    "    fc1_b = tf.Variable(tf.zeros(120))\n",
    "    fc1   = tf.matmul(fc0, fc1_W) + fc1_b\n",
    "    \n",
    "    # SOLUTION: Activation.\n",
    "    # We apply a ReLU activation to the ouput of the fully connected layer\n",
    "    fc1    = tf.nn.relu(fc1)\n",
    "\n",
    "    # SOLUTION: Layer 4: Fully Connected. Input = 120. Output = 84.\n",
    "    # We repeat this pattern, but this time for a layer with width 84\n",
    "    fc2_W  = tf.Variable(tf.truncated_normal(shape=(120, 84), mean = mu, stddev = sigma))\n",
    "    fc2_b  = tf.Variable(tf.zeros(84))\n",
    "    fc2    = tf.matmul(fc1, fc2_W) + fc2_b\n",
    "    \n",
    "    # SOLUTION: Activation.\n",
    "    fc2    = tf.nn.relu(fc2)\n",
    "\n",
    "    # SOLUTION: Layer 5: Fully Connected. Input = 84. Output = 10.\n",
    "    # Finally, we attach a fully connected output layer with a width equal to\n",
    "    # the number of classes in our label set, in this case: 10, one for each digit\n",
    "    # The width of the output layer is 10. This output is also known as our logits that we return\n",
    "    fc3_W  = tf.Variable(tf.truncated_normal(shape=(84, 43), mean = mu, stddev = sigma))\n",
    "    fc3_b  = tf.Variable(tf.zeros(43))\n",
    "    \n",
    "    # dropout\n",
    "    fc2 = tf.nn.dropout(fc2, dropout)\n",
    "    \n",
    "    logits = tf.matmul(fc2, fc3_W) + fc3_b\n",
    "    \n",
    "    return logits"
   ]
  },
  {
   "cell_type": "markdown",
   "metadata": {
    "deletable": true,
    "editable": true
   },
   "source": [
    "### Train, Validate and Test the Model"
   ]
  },
  {
   "cell_type": "markdown",
   "metadata": {
    "deletable": true,
    "editable": true
   },
   "source": [
    "A validation set can be used to assess how well the model is performing. A low accuracy on the training and validation\n",
    "sets imply underfitting. A high accuracy on the training set but low accuracy on the validation set implies overfitting."
   ]
  },
  {
   "cell_type": "code",
   "execution_count": 6,
   "metadata": {
    "collapsed": false,
    "deletable": true,
    "editable": true
   },
   "outputs": [],
   "source": [
    "# Here we set up our tensorFlow variables\n",
    "\n",
    "import tensorflow as tf\n",
    "\n",
    "# x is a placeholder that will store our input batches\n",
    "# We initialize the batch size to non which allows the placeholder to\n",
    "# later accept a batch of any size, and we set the image dimensions to 32x32x1\n",
    "x = tf.placeholder(tf.float32, (None, 32, 32, 1))\n",
    "\n",
    "# y stores our labels in this case our labels come through with sparse variables\n",
    "# which just means that they are integers, they aren't one-hot encoded yet\n",
    "y = tf.placeholder(tf.int32, (None))\n",
    "\n",
    "keep_prob = tf.placeholder(tf.float32)\n",
    "\n",
    "# We use the tf.ont_hot() function to one-hot encode the labels\n",
    "one_hot_y = tf.one_hot(y, n_classes)"
   ]
  },
  {
   "cell_type": "markdown",
   "metadata": {
    "deletable": true,
    "editable": true
   },
   "source": [
    "# 3. How I Trained My Model\n",
    "\n",
    "Below you will see the code I used to train my model. I trained over 100 EPOCHs, but I avoid overfitting the data by using dropout, and by shuffling my data before every sess.run(). In shuffing and using dropout in my training I can simulate randomness to a significant degree. Over 100 EPOCHs I will always get above 93% accuracy, sometimes even 94%.\n",
    "\n",
    "I kept the learning rate low at 0.001 so that my algorithm learns slowly but with high consistency. I used a BATCH_SIZE of 128, primarily because it worked well for other image classifiers like LeNet."
   ]
  },
  {
   "cell_type": "code",
   "execution_count": 7,
   "metadata": {
    "collapsed": true,
    "deletable": true,
    "editable": true
   },
   "outputs": [],
   "source": [
    "### Train your model here.\n",
    "### Calculate and report the accuracy on the training and validation set.\n",
    "### Once a final model architecture is selected, \n",
    "### the accuracy on the test set should be calculated and reported as well.\n",
    "### Feel free to use as many code cells as needed.\n",
    "\n",
    "\n",
    "# Now we can set up our training pipeline\n",
    "\n",
    "# The learning rate tells tf how quickly to update the networks weights\n",
    "rate = 0.001\n",
    "\n",
    "# We pass the input data to the LeNet function to calculate our logits\n",
    "logits = ClassifyTrafficSign(x)\n",
    "\n",
    "# We use the below function to compare our logits to the ground truth labels\n",
    "# and calculate the cross entropy (a measure of how different the different\n",
    "# the logits are from the ground truth training labels)\n",
    "cross_entropy = tf.nn.softmax_cross_entropy_with_logits(labels=one_hot_y, logits=logits)\n",
    "\n",
    "# The tf reduced mean function averages the cross entropy from all the training images\n",
    "loss_operation = tf.reduce_mean(cross_entropy)\n",
    "\n",
    "# Adam optimizer uses an algorithm to minimize the loss function\n",
    "# Similar to stochastic gradient descent, but a little more complex\n",
    "optimizer = tf.train.AdamOptimizer(learning_rate = rate)\n",
    "\n",
    "# We run the minimize function on the optimizer which uses back propagation\n",
    "# to update the network and minimize our training loss\n",
    "training_operation = optimizer.minimize(loss_operation)"
   ]
  },
  {
   "cell_type": "code",
   "execution_count": 8,
   "metadata": {
    "collapsed": true,
    "deletable": true,
    "editable": true
   },
   "outputs": [],
   "source": [
    "# In this code cell we set up another pipeline, this time for evaluating the model\n",
    "# The training pipeline above trains the model, but the evaluation pipeline\n",
    "# we create here will evaluate how good the model is\n",
    "\n",
    "# The first step is to measure whether a given prediction is correct by\n",
    "# comparing the logit prediction to the one-hot encoded ground truth label\n",
    "correct_prediction = tf.equal(tf.argmax(logits, 1), tf.argmax(one_hot_y, 1))\n",
    "\n",
    "# The second step in the pipeline is to compute the models overall accuracy\n",
    "# by averaging the individual prediction accuracies \n",
    "accuracy_operation = tf.reduce_mean(tf.cast(correct_prediction, tf.float32))\n",
    "saver = tf.train.Saver()\n",
    "\n",
    "# We use the evaluate function to run evaluation pipeline\n",
    "# The function takes a dataset as input. It averages the accuracy of each\n",
    "# batch to calculate the total accuracy of the model\n",
    "def evaluate(X_data, y_data):\n",
    "    # It sets some initial variables\n",
    "    num_examples = len(X_data)\n",
    "    total_accuracy = 0\n",
    "    sess = tf.get_default_session()\n",
    "    # Batches the data set and runs it through the evaluation pipeline\n",
    "    for offset in range(0, num_examples, BATCH_SIZE):\n",
    "        batch_x, batch_y = X_data[offset:offset+BATCH_SIZE], y_data[offset:offset+BATCH_SIZE]\n",
    "        accuracy = sess.run(accuracy_operation, feed_dict={x: batch_x, y: batch_y})\n",
    "        total_accuracy += (accuracy * len(batch_x))\n",
    "    return total_accuracy / num_examples"
   ]
  },
  {
   "cell_type": "code",
   "execution_count": 9,
   "metadata": {
    "collapsed": false,
    "deletable": true,
    "editable": true
   },
   "outputs": [
    {
     "name": "stdout",
     "output_type": "stream",
     "text": [
      "Training...\n",
      "\n",
      "EPOCH 1 ...\n",
      "Validation Accuracy = 0.052\n",
      "\n",
      "EPOCH 2 ...\n",
      "Validation Accuracy = 0.146\n",
      "\n",
      "EPOCH 3 ...\n",
      "Validation Accuracy = 0.227\n",
      "\n",
      "EPOCH 4 ...\n",
      "Validation Accuracy = 0.357\n",
      "\n",
      "EPOCH 5 ...\n",
      "Validation Accuracy = 0.520\n",
      "\n",
      "EPOCH 6 ...\n",
      "Validation Accuracy = 0.634\n",
      "\n",
      "EPOCH 7 ...\n",
      "Validation Accuracy = 0.712\n",
      "\n",
      "EPOCH 8 ...\n",
      "Validation Accuracy = 0.796\n",
      "\n",
      "EPOCH 9 ...\n",
      "Validation Accuracy = 0.819\n",
      "\n",
      "EPOCH 10 ...\n",
      "Validation Accuracy = 0.836\n",
      "\n",
      "EPOCH 11 ...\n",
      "Validation Accuracy = 0.850\n",
      "\n",
      "EPOCH 12 ...\n",
      "Validation Accuracy = 0.868\n",
      "\n",
      "EPOCH 13 ...\n",
      "Validation Accuracy = 0.885\n",
      "\n",
      "EPOCH 14 ...\n",
      "Validation Accuracy = 0.876\n",
      "\n",
      "EPOCH 15 ...\n",
      "Validation Accuracy = 0.898\n",
      "\n",
      "EPOCH 16 ...\n",
      "Validation Accuracy = 0.900\n",
      "\n",
      "EPOCH 17 ...\n",
      "Validation Accuracy = 0.904\n",
      "\n",
      "EPOCH 18 ...\n",
      "Validation Accuracy = 0.900\n",
      "\n",
      "EPOCH 19 ...\n",
      "Validation Accuracy = 0.893\n",
      "\n",
      "EPOCH 20 ...\n",
      "Validation Accuracy = 0.911\n",
      "\n",
      "EPOCH 21 ...\n",
      "Validation Accuracy = 0.901\n",
      "\n",
      "EPOCH 22 ...\n",
      "Validation Accuracy = 0.913\n",
      "\n",
      "EPOCH 23 ...\n",
      "Validation Accuracy = 0.910\n",
      "\n",
      "EPOCH 24 ...\n",
      "Validation Accuracy = 0.913\n",
      "\n",
      "EPOCH 25 ...\n",
      "Validation Accuracy = 0.908\n",
      "\n",
      "EPOCH 26 ...\n",
      "Validation Accuracy = 0.910\n",
      "\n",
      "EPOCH 27 ...\n",
      "Validation Accuracy = 0.911\n",
      "\n",
      "EPOCH 28 ...\n",
      "Validation Accuracy = 0.912\n",
      "\n",
      "EPOCH 29 ...\n",
      "Validation Accuracy = 0.914\n",
      "\n",
      "EPOCH 30 ...\n",
      "Validation Accuracy = 0.911\n",
      "\n",
      "EPOCH 31 ...\n",
      "Validation Accuracy = 0.916\n",
      "\n",
      "EPOCH 32 ...\n",
      "Validation Accuracy = 0.912\n",
      "\n",
      "EPOCH 33 ...\n",
      "Validation Accuracy = 0.915\n",
      "\n",
      "EPOCH 34 ...\n",
      "Validation Accuracy = 0.903\n",
      "\n",
      "EPOCH 35 ...\n",
      "Validation Accuracy = 0.919\n",
      "\n",
      "EPOCH 36 ...\n",
      "Validation Accuracy = 0.922\n",
      "\n",
      "EPOCH 37 ...\n",
      "Validation Accuracy = 0.904\n",
      "\n",
      "EPOCH 38 ...\n",
      "Validation Accuracy = 0.915\n",
      "\n",
      "EPOCH 39 ...\n",
      "Validation Accuracy = 0.909\n",
      "\n",
      "EPOCH 40 ...\n",
      "Validation Accuracy = 0.917\n",
      "\n",
      "EPOCH 41 ...\n",
      "Validation Accuracy = 0.905\n",
      "\n",
      "EPOCH 42 ...\n",
      "Validation Accuracy = 0.926\n",
      "\n",
      "EPOCH 43 ...\n",
      "Validation Accuracy = 0.897\n",
      "\n",
      "EPOCH 44 ...\n",
      "Validation Accuracy = 0.928\n",
      "\n",
      "EPOCH 45 ...\n",
      "Validation Accuracy = 0.927\n",
      "\n",
      "EPOCH 46 ...\n",
      "Validation Accuracy = 0.924\n",
      "\n",
      "EPOCH 47 ...\n",
      "Validation Accuracy = 0.917\n",
      "\n",
      "EPOCH 48 ...\n",
      "Validation Accuracy = 0.910\n",
      "\n",
      "EPOCH 49 ...\n",
      "Validation Accuracy = 0.919\n",
      "\n",
      "EPOCH 50 ...\n",
      "Validation Accuracy = 0.925\n",
      "\n",
      "EPOCH 51 ...\n",
      "Validation Accuracy = 0.928\n",
      "\n",
      "EPOCH 52 ...\n",
      "Validation Accuracy = 0.927\n",
      "\n",
      "EPOCH 53 ...\n",
      "Validation Accuracy = 0.908\n",
      "\n",
      "EPOCH 54 ...\n",
      "Validation Accuracy = 0.927\n",
      "\n",
      "EPOCH 55 ...\n",
      "Validation Accuracy = 0.929\n",
      "\n",
      "EPOCH 56 ...\n",
      "Validation Accuracy = 0.929\n",
      "\n",
      "EPOCH 57 ...\n",
      "Validation Accuracy = 0.922\n",
      "\n",
      "EPOCH 58 ...\n",
      "Validation Accuracy = 0.926\n",
      "\n",
      "EPOCH 59 ...\n",
      "Validation Accuracy = 0.925\n",
      "\n",
      "EPOCH 60 ...\n",
      "Validation Accuracy = 0.930\n",
      "\n",
      "EPOCH 61 ...\n",
      "Validation Accuracy = 0.930\n",
      "\n",
      "EPOCH 62 ...\n",
      "Validation Accuracy = 0.923\n",
      "\n",
      "EPOCH 63 ...\n",
      "Validation Accuracy = 0.920\n",
      "\n",
      "EPOCH 64 ...\n",
      "Validation Accuracy = 0.931\n",
      "\n",
      "EPOCH 65 ...\n",
      "Validation Accuracy = 0.931\n",
      "\n",
      "EPOCH 66 ...\n",
      "Validation Accuracy = 0.923\n",
      "\n",
      "EPOCH 67 ...\n",
      "Validation Accuracy = 0.924\n",
      "\n",
      "EPOCH 68 ...\n",
      "Validation Accuracy = 0.934\n",
      "\n",
      "EPOCH 69 ...\n",
      "Validation Accuracy = 0.932\n",
      "\n",
      "EPOCH 70 ...\n",
      "Validation Accuracy = 0.920\n",
      "\n",
      "EPOCH 71 ...\n",
      "Validation Accuracy = 0.930\n",
      "\n",
      "EPOCH 72 ...\n",
      "Validation Accuracy = 0.933\n",
      "\n",
      "EPOCH 73 ...\n",
      "Validation Accuracy = 0.926\n",
      "\n",
      "EPOCH 74 ...\n",
      "Validation Accuracy = 0.929\n",
      "\n",
      "EPOCH 75 ...\n",
      "Validation Accuracy = 0.933\n",
      "\n",
      "EPOCH 76 ...\n",
      "Validation Accuracy = 0.934\n",
      "\n",
      "EPOCH 77 ...\n",
      "Validation Accuracy = 0.940\n",
      "\n",
      "EPOCH 78 ...\n",
      "Validation Accuracy = 0.939\n",
      "\n",
      "EPOCH 79 ...\n",
      "Validation Accuracy = 0.938\n",
      "\n",
      "EPOCH 80 ...\n",
      "Validation Accuracy = 0.937\n",
      "\n",
      "EPOCH 81 ...\n",
      "Validation Accuracy = 0.938\n",
      "\n",
      "EPOCH 82 ...\n",
      "Validation Accuracy = 0.937\n",
      "\n",
      "EPOCH 83 ...\n",
      "Validation Accuracy = 0.936\n",
      "\n",
      "EPOCH 84 ...\n",
      "Validation Accuracy = 0.935\n",
      "\n",
      "EPOCH 85 ...\n",
      "Validation Accuracy = 0.931\n",
      "\n",
      "EPOCH 86 ...\n",
      "Validation Accuracy = 0.929\n",
      "\n",
      "EPOCH 87 ...\n",
      "Validation Accuracy = 0.928\n",
      "\n",
      "EPOCH 88 ...\n",
      "Validation Accuracy = 0.930\n",
      "\n",
      "EPOCH 89 ...\n",
      "Validation Accuracy = 0.934\n",
      "\n",
      "EPOCH 90 ...\n",
      "Validation Accuracy = 0.937\n",
      "\n",
      "EPOCH 91 ...\n",
      "Validation Accuracy = 0.936\n",
      "\n",
      "EPOCH 92 ...\n",
      "Validation Accuracy = 0.936\n",
      "\n",
      "EPOCH 93 ...\n",
      "Validation Accuracy = 0.935\n",
      "\n",
      "EPOCH 94 ...\n",
      "Validation Accuracy = 0.936\n",
      "\n",
      "EPOCH 95 ...\n",
      "Validation Accuracy = 0.936\n",
      "\n",
      "EPOCH 96 ...\n",
      "Validation Accuracy = 0.936\n",
      "\n",
      "EPOCH 97 ...\n",
      "Validation Accuracy = 0.936\n",
      "\n",
      "EPOCH 98 ...\n",
      "Validation Accuracy = 0.935\n",
      "\n",
      "EPOCH 99 ...\n",
      "Validation Accuracy = 0.935\n",
      "\n",
      "EPOCH 100 ...\n",
      "Validation Accuracy = 0.936\n",
      "\n",
      "Model saved\n"
     ]
    }
   ],
   "source": [
    "# Now that everything else is set up we can build a function to train and\n",
    "# validate our model\n",
    "\n",
    "# First we create the TF session and initialize the variables\n",
    "with tf.Session() as sess:\n",
    "    sess.run(tf.global_variables_initializer())\n",
    "    num_examples = len(X_train)\n",
    "    \n",
    "    print(\"Training...\")\n",
    "    print()\n",
    "    # We train over whatever number of EPOCHs has been set\n",
    "    for i in range(EPOCHS):\n",
    "        # At the beginning of each EPOCH we shuffle our training data to\n",
    "        # ensure that our training isn't bias by the order of the images\n",
    "        X_train, y_train = shuffle(X_train, y_train)\n",
    "        # Then we break our training data into batches and train the model on each batch\n",
    "        for offset in range(0, num_examples, BATCH_SIZE):\n",
    "            end = offset + BATCH_SIZE\n",
    "            batch_x, batch_y = X_train[offset:end], y_train[offset:end]\n",
    "            sess.run(training_operation, feed_dict={x: batch_x, y: batch_y})\n",
    "        \n",
    "        # At the end of each EPOCH we evaluate the model on our validation data\n",
    "        validation_accuracy = evaluate(X_valid, y_valid)\n",
    "        print(\"EPOCH {} ...\".format(i+1))\n",
    "        print(\"Validation Accuracy = {:.3f}\".format(validation_accuracy))\n",
    "        print()\n",
    "    \n",
    "    # Once we have completely trained the model we save it so that\n",
    "    # we can load it up later and modify it, or evaluate it on our test dataset\n",
    "    save_file = './lenet'\n",
    "    #save_file = './lenetmodel\\model.ckpt'\n",
    "    saver.save(sess, save_file)\n",
    "    print(\"Model saved\")"
   ]
  },
  {
   "cell_type": "markdown",
   "metadata": {
    "deletable": true,
    "editable": true
   },
   "source": [
    "# 4. My approach to finding the solution and getting the validation set accuracy to be at least 0.93\n",
    "\n",
    "To find my solution I relied on a modified version of the LeNet architecture with the added ML technique dropout. As you can see in the above results, it takes almost 20 EPOCHs to get into the 90% correct range. This is because I set my learning rate to the low value of 0.001, but as you can see after the first 20 EPOCHs there are almost no accuracy values lower then 90%. This consistency is good evidence that my model is working well. I think that the LeNet architecture was very suitable for this problem since this is also an image classifier."
   ]
  },
  {
   "cell_type": "markdown",
   "metadata": {
    "deletable": true,
    "editable": true
   },
   "source": [
    "---\n",
    "\n",
    "## Step 3: Test a Model on New Images\n",
    "\n",
    "To give yourself more insight into how your model is working, download at least five pictures of German traffic signs from the web and use your model to predict the traffic sign type.\n",
    "\n",
    "You may find `signnames.csv` useful as it contains mappings from the class id (integer) to the actual sign name."
   ]
  },
  {
   "cell_type": "markdown",
   "metadata": {
    "deletable": true,
    "editable": true
   },
   "source": [
    "### Load and Output the Images"
   ]
  },
  {
   "cell_type": "code",
   "execution_count": 79,
   "metadata": {
    "collapsed": false,
    "deletable": true,
    "editable": true
   },
   "outputs": [
    {
     "data": {
      "text/html": [
       "<div>\n",
       "<table border=\"1\" class=\"dataframe\">\n",
       "  <thead>\n",
       "    <tr style=\"text-align: right;\">\n",
       "      <th></th>\n",
       "      <th>ClassId</th>\n",
       "      <th>SignName</th>\n",
       "    </tr>\n",
       "  </thead>\n",
       "  <tbody>\n",
       "    <tr>\n",
       "      <th>0</th>\n",
       "      <td>0</td>\n",
       "      <td>Speed limit (20km/h)</td>\n",
       "    </tr>\n",
       "    <tr>\n",
       "      <th>1</th>\n",
       "      <td>1</td>\n",
       "      <td>Speed limit (30km/h)</td>\n",
       "    </tr>\n",
       "    <tr>\n",
       "      <th>2</th>\n",
       "      <td>2</td>\n",
       "      <td>Speed limit (50km/h)</td>\n",
       "    </tr>\n",
       "    <tr>\n",
       "      <th>3</th>\n",
       "      <td>3</td>\n",
       "      <td>Speed limit (60km/h)</td>\n",
       "    </tr>\n",
       "    <tr>\n",
       "      <th>4</th>\n",
       "      <td>4</td>\n",
       "      <td>Speed limit (70km/h)</td>\n",
       "    </tr>\n",
       "    <tr>\n",
       "      <th>5</th>\n",
       "      <td>5</td>\n",
       "      <td>Speed limit (80km/h)</td>\n",
       "    </tr>\n",
       "    <tr>\n",
       "      <th>6</th>\n",
       "      <td>6</td>\n",
       "      <td>End of speed limit (80km/h)</td>\n",
       "    </tr>\n",
       "    <tr>\n",
       "      <th>7</th>\n",
       "      <td>7</td>\n",
       "      <td>Speed limit (100km/h)</td>\n",
       "    </tr>\n",
       "    <tr>\n",
       "      <th>8</th>\n",
       "      <td>8</td>\n",
       "      <td>Speed limit (120km/h)</td>\n",
       "    </tr>\n",
       "    <tr>\n",
       "      <th>9</th>\n",
       "      <td>9</td>\n",
       "      <td>No passing</td>\n",
       "    </tr>\n",
       "    <tr>\n",
       "      <th>10</th>\n",
       "      <td>10</td>\n",
       "      <td>No passing for vehicles over 3.5 metric tons</td>\n",
       "    </tr>\n",
       "    <tr>\n",
       "      <th>11</th>\n",
       "      <td>11</td>\n",
       "      <td>Right-of-way at the next intersection</td>\n",
       "    </tr>\n",
       "    <tr>\n",
       "      <th>12</th>\n",
       "      <td>12</td>\n",
       "      <td>Priority road</td>\n",
       "    </tr>\n",
       "    <tr>\n",
       "      <th>13</th>\n",
       "      <td>13</td>\n",
       "      <td>Yield</td>\n",
       "    </tr>\n",
       "    <tr>\n",
       "      <th>14</th>\n",
       "      <td>14</td>\n",
       "      <td>Stop</td>\n",
       "    </tr>\n",
       "    <tr>\n",
       "      <th>15</th>\n",
       "      <td>15</td>\n",
       "      <td>No vehicles</td>\n",
       "    </tr>\n",
       "    <tr>\n",
       "      <th>16</th>\n",
       "      <td>16</td>\n",
       "      <td>Vehicles over 3.5 metric tons prohibited</td>\n",
       "    </tr>\n",
       "    <tr>\n",
       "      <th>17</th>\n",
       "      <td>17</td>\n",
       "      <td>No entry</td>\n",
       "    </tr>\n",
       "    <tr>\n",
       "      <th>18</th>\n",
       "      <td>18</td>\n",
       "      <td>General caution</td>\n",
       "    </tr>\n",
       "    <tr>\n",
       "      <th>19</th>\n",
       "      <td>19</td>\n",
       "      <td>Dangerous curve to the left</td>\n",
       "    </tr>\n",
       "    <tr>\n",
       "      <th>20</th>\n",
       "      <td>20</td>\n",
       "      <td>Dangerous curve to the right</td>\n",
       "    </tr>\n",
       "    <tr>\n",
       "      <th>21</th>\n",
       "      <td>21</td>\n",
       "      <td>Double curve</td>\n",
       "    </tr>\n",
       "    <tr>\n",
       "      <th>22</th>\n",
       "      <td>22</td>\n",
       "      <td>Bumpy road</td>\n",
       "    </tr>\n",
       "    <tr>\n",
       "      <th>23</th>\n",
       "      <td>23</td>\n",
       "      <td>Slippery road</td>\n",
       "    </tr>\n",
       "    <tr>\n",
       "      <th>24</th>\n",
       "      <td>24</td>\n",
       "      <td>Road narrows on the right</td>\n",
       "    </tr>\n",
       "    <tr>\n",
       "      <th>25</th>\n",
       "      <td>25</td>\n",
       "      <td>Road work</td>\n",
       "    </tr>\n",
       "    <tr>\n",
       "      <th>26</th>\n",
       "      <td>26</td>\n",
       "      <td>Traffic signals</td>\n",
       "    </tr>\n",
       "    <tr>\n",
       "      <th>27</th>\n",
       "      <td>27</td>\n",
       "      <td>Pedestrians</td>\n",
       "    </tr>\n",
       "    <tr>\n",
       "      <th>28</th>\n",
       "      <td>28</td>\n",
       "      <td>Children crossing</td>\n",
       "    </tr>\n",
       "    <tr>\n",
       "      <th>29</th>\n",
       "      <td>29</td>\n",
       "      <td>Bicycles crossing</td>\n",
       "    </tr>\n",
       "    <tr>\n",
       "      <th>30</th>\n",
       "      <td>30</td>\n",
       "      <td>Beware of ice/snow</td>\n",
       "    </tr>\n",
       "    <tr>\n",
       "      <th>31</th>\n",
       "      <td>31</td>\n",
       "      <td>Wild animals crossing</td>\n",
       "    </tr>\n",
       "    <tr>\n",
       "      <th>32</th>\n",
       "      <td>32</td>\n",
       "      <td>End of all speed and passing limits</td>\n",
       "    </tr>\n",
       "    <tr>\n",
       "      <th>33</th>\n",
       "      <td>33</td>\n",
       "      <td>Turn right ahead</td>\n",
       "    </tr>\n",
       "    <tr>\n",
       "      <th>34</th>\n",
       "      <td>34</td>\n",
       "      <td>Turn left ahead</td>\n",
       "    </tr>\n",
       "    <tr>\n",
       "      <th>35</th>\n",
       "      <td>35</td>\n",
       "      <td>Ahead only</td>\n",
       "    </tr>\n",
       "    <tr>\n",
       "      <th>36</th>\n",
       "      <td>36</td>\n",
       "      <td>Go straight or right</td>\n",
       "    </tr>\n",
       "    <tr>\n",
       "      <th>37</th>\n",
       "      <td>37</td>\n",
       "      <td>Go straight or left</td>\n",
       "    </tr>\n",
       "    <tr>\n",
       "      <th>38</th>\n",
       "      <td>38</td>\n",
       "      <td>Keep right</td>\n",
       "    </tr>\n",
       "    <tr>\n",
       "      <th>39</th>\n",
       "      <td>39</td>\n",
       "      <td>Keep left</td>\n",
       "    </tr>\n",
       "    <tr>\n",
       "      <th>40</th>\n",
       "      <td>40</td>\n",
       "      <td>Roundabout mandatory</td>\n",
       "    </tr>\n",
       "    <tr>\n",
       "      <th>41</th>\n",
       "      <td>41</td>\n",
       "      <td>End of no passing</td>\n",
       "    </tr>\n",
       "    <tr>\n",
       "      <th>42</th>\n",
       "      <td>42</td>\n",
       "      <td>End of no passing by vehicles over 3.5 metric ...</td>\n",
       "    </tr>\n",
       "  </tbody>\n",
       "</table>\n",
       "</div>"
      ],
      "text/plain": [
       "    ClassId                                           SignName\n",
       "0         0                               Speed limit (20km/h)\n",
       "1         1                               Speed limit (30km/h)\n",
       "2         2                               Speed limit (50km/h)\n",
       "3         3                               Speed limit (60km/h)\n",
       "4         4                               Speed limit (70km/h)\n",
       "5         5                               Speed limit (80km/h)\n",
       "6         6                        End of speed limit (80km/h)\n",
       "7         7                              Speed limit (100km/h)\n",
       "8         8                              Speed limit (120km/h)\n",
       "9         9                                         No passing\n",
       "10       10       No passing for vehicles over 3.5 metric tons\n",
       "11       11              Right-of-way at the next intersection\n",
       "12       12                                      Priority road\n",
       "13       13                                              Yield\n",
       "14       14                                               Stop\n",
       "15       15                                        No vehicles\n",
       "16       16           Vehicles over 3.5 metric tons prohibited\n",
       "17       17                                           No entry\n",
       "18       18                                    General caution\n",
       "19       19                        Dangerous curve to the left\n",
       "20       20                       Dangerous curve to the right\n",
       "21       21                                       Double curve\n",
       "22       22                                         Bumpy road\n",
       "23       23                                      Slippery road\n",
       "24       24                          Road narrows on the right\n",
       "25       25                                          Road work\n",
       "26       26                                    Traffic signals\n",
       "27       27                                        Pedestrians\n",
       "28       28                                  Children crossing\n",
       "29       29                                  Bicycles crossing\n",
       "30       30                                 Beware of ice/snow\n",
       "31       31                              Wild animals crossing\n",
       "32       32                End of all speed and passing limits\n",
       "33       33                                   Turn right ahead\n",
       "34       34                                    Turn left ahead\n",
       "35       35                                         Ahead only\n",
       "36       36                               Go straight or right\n",
       "37       37                                Go straight or left\n",
       "38       38                                         Keep right\n",
       "39       39                                          Keep left\n",
       "40       40                               Roundabout mandatory\n",
       "41       41                                  End of no passing\n",
       "42       42  End of no passing by vehicles over 3.5 metric ..."
      ]
     },
     "execution_count": 79,
     "metadata": {},
     "output_type": "execute_result"
    }
   ],
   "source": [
    "### Load the images and plot them here.\n",
    "### Feel free to use as many code cells as needed.\n",
    "\n",
    "import matplotlib.image as mpimg\n",
    "import matplotlib.pyplot as plt\n",
    "\n",
    "# Read signnames.csv file\n",
    "import pandas as pd\n",
    "sign_names = pd.read_csv('signnames.csv')\n",
    "sign_names.head(43)"
   ]
  },
  {
   "cell_type": "markdown",
   "metadata": {
    "deletable": true,
    "editable": true
   },
   "source": [
    "# 1. Below you will see the five images I chose to use my model to classify\n",
    "\n",
    "If you look at all of these images you will see that they all have different lighting as a result of the time of day, or the season. I was also interested in finding out how the model would perform if there was something covering the sign, so my first image has snow covering the bottom of the sign."
   ]
  },
  {
   "cell_type": "code",
   "execution_count": 89,
   "metadata": {
    "collapsed": false,
    "deletable": true,
    "editable": true
   },
   "outputs": [
    {
     "data": {
      "image/png": "[encoded data removed]",
      "text/plain": [
       "<matplotlib.figure.Figure at 0x7fd0818fa278>"
      ]
     },
     "metadata": {},
     "output_type": "display_data"
    },
    {
     "data": {
      "image/png": "[encoded data removed]",
      "text/plain": [
       "<matplotlib.figure.Figure at 0x7fd081a5add8>"
      ]
     },
     "metadata": {},
     "output_type": "display_data"
    },
    {
     "data": {
      "image/png": "[encoded data removed]",
      "text/plain": [
       "<matplotlib.figure.Figure at 0x7fd0814af2b0>"
      ]
     },
     "metadata": {},
     "output_type": "display_data"
    },
    {
     "data": {
      "image/png": "[encoded data removed]",
      "text/plain": [
       "<matplotlib.figure.Figure at 0x7fd081922358>"
      ]
     },
     "metadata": {},
     "output_type": "display_data"
    },
    {
     "data": {
      "image/png": "[encoded data removed]",
      "text/plain": [
       "<matplotlib.figure.Figure at 0x7fd0818ebac8>"
      ]
     },
     "metadata": {},
     "output_type": "display_data"
    }
   ],
   "source": [
    "import os\n",
    "import cv2\n",
    "\n",
    "# Images downloaded are named \"img1.jpg ... img5.jpg\"\n",
    "# Displaying the images here.\n",
    "img_list = []\n",
    "for i in range(1,6):\n",
    "    img = cv2.imread(\"extra_imgs/\"+str(i)+\".jpg\")\n",
    "    img_resized = cv2.resize(img, (32,32))\n",
    "    img_list.append(img_resized)\n",
    "    plt.figure(figsize=(1,1))\n",
    "    plt.imshow(img_resized)"
   ]
  },
  {
   "cell_type": "markdown",
   "metadata": {
    "deletable": true,
    "editable": true
   },
   "source": [
    "# 2. The model's predictions\n",
    "\n",
    "Of the five predictions, only four are correct. The one prediction it gets wrong is the sign that is partially covered with snow. I am interested to learn how to augment the image more so that this problem is resolved. Surprisingly, the correct answer for this prediction isn't even in the top five predictions as you can see in the softmax probabilities data visualization below. Other than the sign with the snow on it, the model performed very well on these new images."
   ]
  },
  {
   "cell_type": "markdown",
   "metadata": {
    "deletable": true,
    "editable": true
   },
   "source": [
    "### Predict the Sign Type for Each Image"
   ]
  },
  {
   "cell_type": "code",
   "execution_count": 102,
   "metadata": {
    "collapsed": false,
    "deletable": true,
    "editable": true
   },
   "outputs": [
    {
     "name": "stdout",
     "output_type": "stream",
     "text": [
      "23\n",
      "12\n",
      "11\n",
      "25\n",
      "14\n"
     ]
    }
   ],
   "source": [
    "### Run the predictions here and use the model to output the prediction for each image.\n",
    "### Make sure to pre-process the images with the same pre-processing pipeline used earlier.\n",
    "### Feel free to use as many code cells as needed.\n",
    "\n",
    "import csv\n",
    "import numpy as np\n",
    "from PIL import Image\n",
    "\n",
    "def normalizeImg(images):\n",
    "\n",
    "    # Convert to gray-scale\n",
    "    images_gray = np.mean(images, axis=3)\n",
    "\n",
    "    # Subtract the mean and divide by std-dev to normalize the images\n",
    "    images_mean = np.mean(images_gray)\n",
    "    images_std  = np.std(images_gray)\n",
    "    images_norm = (images_gray - images_mean) / images_std # images_gray\n",
    "    images_norm = np.reshape(images_norm, (images_norm.shape[0], images_norm.shape[1], images_norm.shape[2], 1))\n",
    "    return images_norm\n",
    "\n",
    "predictions = []\n",
    "with tf.Session() as sess:\n",
    "    saver.restore(sess, tf.train.latest_checkpoint('.'))\n",
    "    for i in range(len(img_list)):\n",
    "        img = np.resize(img_list[i].astype(np.float32), (1,32,32,3))\n",
    "        img = normalizeMultiChannelImages(img)\n",
    "        predict_logits = sess.run(logits, feed_dict={x: img})\n",
    "        predictions.append( np.argmax(predict_logits))\n",
    "        print (predictions[-1])"
   ]
  },
  {
   "cell_type": "markdown",
   "metadata": {
    "deletable": true,
    "editable": true
   },
   "source": [
    "### Analyze Performance"
   ]
  },
  {
   "cell_type": "code",
   "execution_count": 91,
   "metadata": {
    "collapsed": false,
    "deletable": true,
    "editable": true
   },
   "outputs": [
    {
     "name": "stdout",
     "output_type": "stream",
     "text": [
      "Accuracy of predictions: 80.000000%\n"
     ]
    }
   ],
   "source": [
    "### Calculate the accuracy for these 5 new images. \n",
    "### For example, if the model predicted 1 out of 5 signs correctly, it's 20% accurate on these new images.\n",
    "\n",
    "truth_values = [30, 12, 11, 25, 14]\n",
    "num_elem = len(truth_values)\n",
    "num_same = 0\n",
    "for pred, exp_pred in zip(predictions, truth_values):\n",
    "    if (pred == exp_pred):\n",
    "        num_same = num_same + 1\n",
    "\n",
    "accuracy = float(num_same) / float(num_elem)\n",
    "\n",
    "print (\"Accuracy of predictions: %f%%\" %(accuracy * 100.0))"
   ]
  },
  {
   "cell_type": "markdown",
   "metadata": {
    "deletable": true,
    "editable": true
   },
   "source": [
    "### Output Top 5 Softmax Probabilities For Each Image Found on the Web"
   ]
  },
  {
   "cell_type": "markdown",
   "metadata": {
    "deletable": true,
    "editable": true
   },
   "source": [
    "For each of the new images, print out the model's softmax probabilities to show the **certainty** of the model's predictions (limit the output to the top 5 probabilities for each image). [`tf.nn.top_k`](https://www.tensorflow.org/versions/r0.12/api_docs/python/nn.html#top_k) could prove helpful here. \n",
    "\n",
    "The example below demonstrates how tf.nn.top_k can be used to find the top k predictions for each image.\n",
    "\n",
    "`tf.nn.top_k` will return the values and indices (class ids) of the top k predictions. So if k=3, for each sign, it'll return the 3 largest probabilities (out of a possible 43) and the correspoding class ids.\n",
    "\n",
    "Take this numpy array as an example. The values in the array represent predictions. The array contains softmax probabilities for five candidate images with six possible classes. `tk.nn.top_k` is used to choose the three classes with the highest probability:\n",
    "\n",
    "```\n",
    "# (5, 6) array\n",
    "a = np.array([[ 0.24879643,  0.07032244,  0.12641572,  0.34763842,  0.07893497,\n",
    "         0.12789202],\n",
    "       [ 0.28086119,  0.27569815,  0.08594638,  0.0178669 ,  0.18063401,\n",
    "         0.15899337],\n",
    "       [ 0.26076848,  0.23664738,  0.08020603,  0.07001922,  0.1134371 ,\n",
    "         0.23892179],\n",
    "       [ 0.11943333,  0.29198961,  0.02605103,  0.26234032,  0.1351348 ,\n",
    "         0.16505091],\n",
    "       [ 0.09561176,  0.34396535,  0.0643941 ,  0.16240774,  0.24206137,\n",
    "         0.09155967]])\n",
    "```\n",
    "\n",
    "Running it through `sess.run(tf.nn.top_k(tf.constant(a), k=3))` produces:\n",
    "\n",
    "```\n",
    "TopKV2(values=array([[ 0.34763842,  0.24879643,  0.12789202],\n",
    "       [ 0.28086119,  0.27569815,  0.18063401],\n",
    "       [ 0.26076848,  0.23892179,  0.23664738],\n",
    "       [ 0.29198961,  0.26234032,  0.16505091],\n",
    "       [ 0.34396535,  0.24206137,  0.16240774]]), indices=array([[3, 0, 5],\n",
    "       [0, 1, 4],\n",
    "       [0, 5, 1],\n",
    "       [1, 3, 5],\n",
    "       [1, 4, 3]], dtype=int32))\n",
    "```\n",
    "\n",
    "Looking just at the first row we get `[ 0.34763842,  0.24879643,  0.12789202]`, you can confirm these are the 3 largest probabilities in `a`. You'll also notice `[3, 0, 5]` are the corresponding indices."
   ]
  },
  {
   "cell_type": "code",
   "execution_count": 99,
   "metadata": {
    "collapsed": false,
    "deletable": true,
    "editable": true
   },
   "outputs": [
    {
     "data": {
      "image/png": "[encoded data removed]",
      "text/plain": [
       "<matplotlib.figure.Figure at 0x7fd0c5192c18>"
      ]
     },
     "metadata": {},
     "output_type": "display_data"
    },
    {
     "name": "stdout",
     "output_type": "stream",
     "text": [
      "Top 5 prediction probabilities: [[  9.98856544e-01   7.46531354e-04   3.74874391e-04   2.20715792e-05\n",
      "    3.39781678e-08]]\n",
      "\n",
      "Top 5 prediction ids: [[23 28  6 11  5]]\n",
      "\n",
      "Top 5 predictions: Slippery road, Children crossing, End of speed limit (80km/h), Right-of-way at the next intersection, Speed limit (80km/h)\n",
      "\n",
      "Prediction: 23 \n",
      "\n"
     ]
    },
    {
     "data": {
      "image/png": "[encoded data removed]",
      "text/plain": [
       "<matplotlib.figure.Figure at 0x7fd081a12b70>"
      ]
     },
     "metadata": {},
     "output_type": "display_data"
    },
    {
     "name": "stdout",
     "output_type": "stream",
     "text": [
      "Top 5 prediction probabilities: [[  1.00000000e+00   1.58333949e-25   1.05850154e-30   7.21933676e-33\n",
      "    2.83821972e-33]]\n",
      "\n",
      "Top 5 prediction ids: [[12 40 17  9 32]]\n",
      "\n",
      "Top 5 predictions: Priority road, Roundabout mandatory, No entry, No passing, End of all speed and passing limits\n",
      "\n",
      "Prediction: 12 \n",
      "\n"
     ]
    },
    {
     "data": {
      "image/png": "[encoded data removed]",
      "text/plain": [
       "<matplotlib.figure.Figure at 0x7fd0c48f3550>"
      ]
     },
     "metadata": {},
     "output_type": "display_data"
    },
    {
     "name": "stdout",
     "output_type": "stream",
     "text": [
      "Top 5 prediction probabilities: [[  1.00000000e+00   6.68337011e-33   1.58806256e-34   1.28384086e-35\n",
      "    0.00000000e+00]]\n",
      "\n",
      "Top 5 prediction ids: [[11 23 30 21  0]]\n",
      "\n",
      "Top 5 predictions: Right-of-way at the next intersection, Slippery road, Beware of ice/snow, Double curve, Speed limit (20km/h)\n",
      "\n",
      "Prediction: 11 \n",
      "\n"
     ]
    },
    {
     "data": {
      "image/png": "[encoded data removed]",
      "text/plain": [
       "<matplotlib.figure.Figure at 0x7fd0c48d2cc0>"
      ]
     },
     "metadata": {},
     "output_type": "display_data"
    },
    {
     "name": "stdout",
     "output_type": "stream",
     "text": [
      "Top 5 prediction probabilities: [[  9.88878191e-01   1.11218514e-02   4.45771629e-16   1.89518427e-17\n",
      "    9.73898465e-19]]\n",
      "\n",
      "Top 5 prediction ids: [[25 20 38  5 10]]\n",
      "\n",
      "Top 5 predictions: Road work, Dangerous curve to the right, Keep right, Speed limit (80km/h), No passing for vehicles over 3.5 metric tons\n",
      "\n",
      "Prediction: 25 \n",
      "\n"
     ]
    },
    {
     "data": {
      "image/png": "[encoded data removed]",
      "text/plain": [
       "<matplotlib.figure.Figure at 0x7fd0c51f1dd8>"
      ]
     },
     "metadata": {},
     "output_type": "display_data"
    },
    {
     "name": "stdout",
     "output_type": "stream",
     "text": [
      "Top 5 prediction probabilities: [[  9.99999881e-01   1.12700775e-07   2.84066121e-11   2.78079614e-19\n",
      "    1.09096892e-23]]\n",
      "\n",
      "Top 5 prediction ids: [[14 34  3  2  1]]\n",
      "\n",
      "Top 5 predictions: Stop, Turn left ahead, Speed limit (60km/h), Speed limit (50km/h), Speed limit (30km/h)\n",
      "\n",
      "Prediction: 14 \n",
      "\n"
     ]
    }
   ],
   "source": [
    "### Print out the top five softmax probabilities for the predictions on the German traffic sign images found on the web. \n",
    "### Feel free to use as many code cells as needed.\n",
    "\n",
    "import matplotlib.cm as cm\n",
    "\n",
    "predictions = []\n",
    "num_top_predictions = 5\n",
    "\n",
    "with tf.Session() as sess:\n",
    "    saver.restore(sess, tf.train.latest_checkpoint('.'))\n",
    "    for i in range(len(img_list)):\n",
    "        img = np.resize(img_list[i].astype(np.float32), (1,32,32,3))\n",
    "        img = normalizeImg(img)\n",
    "        predict_logits = sess.run(logits, feed_dict={x: img})\n",
    "        softmax_prob = sess.run(tf.nn.softmax(logits=predict_logits))\n",
    "        top5Predict = sess.run(tf.nn.top_k(tf.constant(softmax_prob), k=num_top_predictions))\n",
    "        top5PredictStr = \", \".join(sign_names['SignName'][idx] for idx in top5Predict.indices.flatten())\n",
    "        \n",
    "        ind = np.arange(num_top_predictions)  # the x locations for the groups\n",
    "        width = 0.30       # the width of the bars\n",
    "\n",
    "        fig, ax = plt.subplots()\n",
    "        fig.bottom = 0.5\n",
    "        plt.tight_layout()\n",
    "\n",
    "        colors = cm.rainbow(np.linspace(0, 1, num_top_predictions))\n",
    "        ax.bar(ind, top5Predict.values.flatten() , width, color=colors)\n",
    "\n",
    "        # add some text for labels, title and axes ticks\n",
    "        ax.set_ylabel('Probability')\n",
    "        ax.set_title('Image %d'%int(i+1))\n",
    "        ax.set_xticks(ind + width / 2)\n",
    "        ax.set_xticklabels([sign_names['SignName'][idx] for idx in top5Predict.indices.flatten()], rotation=45, ha='right')\n",
    "\n",
    "        plt.show()\n",
    "\n",
    "        print (\"Top 5 prediction probabilities: %s\\n\" %(top5Predict.values))    \n",
    "        print (\"Top 5 prediction ids: %s\\n\" %(top5Predict.indices))\n",
    "        print (\"Top 5 predictions: %s\\n\" %(top5PredictStr))\n",
    "        predictions.append( np.argmax(predict_logits))\n",
    "        print (\"Prediction: %s \\n\" %(predictions[-1]))"
   ]
  },
  {
   "cell_type": "markdown",
   "metadata": {
    "deletable": true,
    "editable": true
   },
   "source": [
    "# 3. Model certainty\n",
    "\n",
    "The model seems very certain of its predictions, as seen in the above data visualization. For four of the five graphs, there is only one visible bar for the five possible values on the x-axis. Since my model is so certain of itself, it makes me think that it might be a little overfit.\n",
    "\n",
    "The accuracy on the captured images is 80% while it averaged at about 93% on the testing set. However, the one captured image that gets labeled incorrectly is due to the snow on the sign in the picture. If the sign did not have snow on it, I am confident the model would label it correctly and have 100% accuracy. This leads me to believe that my model may be a bit overfit since it is so confident."
   ]
  },
  {
   "cell_type": "markdown",
   "metadata": {
    "deletable": true,
    "editable": true
   },
   "source": [
    "### Project Writeup\n",
    "\n",
    "Once you have completed the code implementation, document your results in a project writeup using this [template](https://github.com/udacity/CarND-Traffic-Sign-Classifier-Project/blob/master/writeup_template.md) as a guide. The writeup can be in a markdown or pdf file. "
   ]
  },
  {
   "cell_type": "markdown",
   "metadata": {
    "deletable": true,
    "editable": true
   },
   "source": [
    "> **Note**: Once you have completed all of the code implementations and successfully answered each question above, you may finalize your work by exporting the iPython Notebook as an HTML document. You can do this by using the menu above and navigating to  \\n\",\n",
    "    \"**File -> Download as -> HTML (.html)**. Include the finished document along with this notebook as your submission."
   ]
  },
  {
   "cell_type": "markdown",
   "metadata": {
    "deletable": true,
    "editable": true
   },
   "source": [
    "---\n",
    "\n",
    "## Step 4 (Optional): Visualize the Neural Network's State with Test Images\n",
    "\n",
    " This Section is not required to complete but acts as an additional excersise for understaning the output of a neural network's weights. While neural networks can be a great learning device they are often referred to as a black box. We can understand what the weights of a neural network look like better by plotting their feature maps. After successfully training your neural network you can see what it's feature maps look like by plotting the output of the network's weight layers in response to a test stimuli image. From these plotted feature maps, it's possible to see what characteristics of an image the network finds interesting. For a sign, maybe the inner network feature maps react with high activation to the sign's boundary outline or to the contrast in the sign's painted symbol.\n",
    "\n",
    " Provided for you below is the function code that allows you to get the visualization output of any tensorflow weight layer you want. The inputs to the function should be a stimuli image, one used during training or a new one you provided, and then the tensorflow variable name that represents the layer's state during the training process, for instance if you wanted to see what the [LeNet lab's](https://classroom.udacity.com/nanodegrees/nd013/parts/fbf77062-5703-404e-b60c-95b78b2f3f9e/modules/6df7ae49-c61c-4bb2-a23e-6527e69209ec/lessons/601ae704-1035-4287-8b11-e2c2716217ad/concepts/d4aca031-508f-4e0b-b493-e7b706120f81) feature maps looked like for it's second convolutional layer you could enter conv2 as the tf_activation variable.\n",
    "\n",
    "For an example of what feature map outputs look like, check out NVIDIA's results in their paper [End-to-End Deep Learning for Self-Driving Cars](https://devblogs.nvidia.com/parallelforall/deep-learning-self-driving-cars/) in the section Visualization of internal CNN State. NVIDIA was able to show that their network's inner weights had high activations to road boundary lines by comparing feature maps from an image with a clear path to one without. Try experimenting with a similar test to show that your trained network's weights are looking for interesting features, whether it's looking at differences in feature maps from images with or without a sign, or even what feature maps look like in a trained network vs a completely untrained one on the same sign image.\n",
    "\n",
    "<figure>\n",
    " <img src=\"visualize_cnn.png\" width=\"380\" alt=\"Combined Image\" />\n",
    " <figcaption>\n",
    " <p></p> \n",
    " <p style=\"text-align: center;\"> Your output should look something like this (above)</p> \n",
    " </figcaption>\n",
    "</figure>\n",
    " <p></p> \n"
   ]
  }
 ],
 "metadata": {
  "anaconda-cloud": {},
  "kernelspec": {
   "display_name": "Python 3",
   "language": "python",
   "name": "python3"
  },
  "language_info": {
   "codemirror_mode": {
    "name": "ipython",
    "version": 3
   },
   "file_extension": ".py",
   "mimetype": "text/x-python",
   "name": "python",
   "nbconvert_exporter": "python",
   "pygments_lexer": "ipython3",
   "version": "3.5.2"
  },
  "widgets": {
   "state": {},
   "version": "1.1.2"
  }
 },
 "nbformat": 4,
 "nbformat_minor": 1
}
